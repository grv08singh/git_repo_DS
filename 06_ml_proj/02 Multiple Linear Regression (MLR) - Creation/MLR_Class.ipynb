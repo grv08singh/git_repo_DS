{
 "cells": [
  {
   "cell_type": "code",
   "execution_count": 42,
   "id": "365c3cc9-133c-41e3-9ece-2b2a84d8e61e",
   "metadata": {},
   "outputs": [],
   "source": [
    "import numpy as np\n",
    "import pandas as pd\n",
    "import matplotlib.pyplot as plt\n",
    "import seaborn as sns\n",
    "from sklearn.model_selection import train_test_split"
   ]
  },
  {
   "cell_type": "code",
   "execution_count": 65,
   "id": "3316641d-5fbe-47fc-9499-69e21e0beb63",
   "metadata": {},
   "outputs": [],
   "source": [
    "class TwoD_LinReg:\n",
    "    def __init__(self):\n",
    "        self.a = None\n",
    "        self.b = None\n",
    "        self.c = None\n",
    "        self.y_mean = None\n",
    "    \n",
    "    def fit(self, x_train, y_train):\n",
    "        x1_mean = np.mean(x_train.iloc[:,0])\n",
    "        x2_mean = np.mean(x_train.iloc[:,1])\n",
    "        self.y_mean = np.mean(y_train)\n",
    "        \n",
    "        x1_ = x_train.iloc[:,0] - x1_mean\n",
    "        x2_ = x_train.iloc[:,1] - x2_mean\n",
    "        y_ = y_train - self.y_mean\n",
    "        \n",
    "        p_ = sum(y_ * x1_) / sum(x1_ * x1_)\n",
    "        q_ = sum(x2_ * x1_) / sum(x1_ * x1_)\n",
    "        \n",
    "        self.c = (sum(y_ * x2_) - p_ * (sum(x1_ * x2_))) / (sum(x2_ * x2_) - q_ * sum(x1_ * x2_))\n",
    "        self.b = p_ - self.c * q_\n",
    "        self.a = self.y_mean - self.b * x1_mean - self.c * x2_mean\n",
    "        return self.a, self.b, self.c\n",
    "    \n",
    "    def predict(self, x_test):\n",
    "        y_pred = self.a + (self.b * x_test.iloc[:,0]) + (self.c * x_test.iloc[:,1])\n",
    "        return y_pred\n",
    "\n",
    "    def r2_score(self, y_test, y_pred):\n",
    "        num = sum((y_test - y_pred)**2)\n",
    "        den = sum((y_test - self.y_mean)**2)\n",
    "        r2_score = 1 - num/den\n",
    "        return r2_score"
   ]
  },
  {
   "cell_type": "code",
   "execution_count": null,
   "id": "538866ca-c475-438e-b100-723fbbf32157",
   "metadata": {},
   "outputs": [],
   "source": []
  },
  {
   "cell_type": "code",
   "execution_count": 66,
   "id": "c6fccfd3-9151-443f-97b3-37641e49d8d4",
   "metadata": {},
   "outputs": [],
   "source": [
    "df = pd.read_csv(\"LinRegTest.csv\")"
   ]
  },
  {
   "cell_type": "code",
   "execution_count": 67,
   "id": "29cc0299-78f6-40c9-b189-815982c9d509",
   "metadata": {},
   "outputs": [
    {
     "data": {
      "text/html": [
       "<div>\n",
       "<style scoped>\n",
       "    .dataframe tbody tr th:only-of-type {\n",
       "        vertical-align: middle;\n",
       "    }\n",
       "\n",
       "    .dataframe tbody tr th {\n",
       "        vertical-align: top;\n",
       "    }\n",
       "\n",
       "    .dataframe thead th {\n",
       "        text-align: right;\n",
       "    }\n",
       "</style>\n",
       "<table border=\"1\" class=\"dataframe\">\n",
       "  <thead>\n",
       "    <tr style=\"text-align: right;\">\n",
       "      <th></th>\n",
       "      <th>cgpa</th>\n",
       "      <th>iq</th>\n",
       "      <th>salary</th>\n",
       "    </tr>\n",
       "  </thead>\n",
       "  <tbody>\n",
       "    <tr>\n",
       "      <th>0</th>\n",
       "      <td>3.55</td>\n",
       "      <td>63</td>\n",
       "      <td>5.24</td>\n",
       "    </tr>\n",
       "    <tr>\n",
       "      <th>1</th>\n",
       "      <td>8.98</td>\n",
       "      <td>115</td>\n",
       "      <td>10.96</td>\n",
       "    </tr>\n",
       "    <tr>\n",
       "      <th>2</th>\n",
       "      <td>1.19</td>\n",
       "      <td>61</td>\n",
       "      <td>2.77</td>\n",
       "    </tr>\n",
       "    <tr>\n",
       "      <th>3</th>\n",
       "      <td>7.42</td>\n",
       "      <td>103</td>\n",
       "      <td>11.20</td>\n",
       "    </tr>\n",
       "    <tr>\n",
       "      <th>4</th>\n",
       "      <td>5.47</td>\n",
       "      <td>63</td>\n",
       "      <td>8.52</td>\n",
       "    </tr>\n",
       "  </tbody>\n",
       "</table>\n",
       "</div>"
      ],
      "text/plain": [
       "   cgpa   iq  salary\n",
       "0  3.55   63    5.24\n",
       "1  8.98  115   10.96\n",
       "2  1.19   61    2.77\n",
       "3  7.42  103   11.20\n",
       "4  5.47   63    8.52"
      ]
     },
     "execution_count": 67,
     "metadata": {},
     "output_type": "execute_result"
    }
   ],
   "source": [
    "df.head()"
   ]
  },
  {
   "cell_type": "code",
   "execution_count": 68,
   "id": "c3e412ce-e4f5-4ccb-8581-19b7c2e1e94e",
   "metadata": {},
   "outputs": [],
   "source": [
    "x, y = df.iloc[:,0:-1], df.iloc[:,-1]"
   ]
  },
  {
   "cell_type": "code",
   "execution_count": 69,
   "id": "c86d7090-81dc-4454-afa8-998dd000278d",
   "metadata": {},
   "outputs": [],
   "source": [
    "x_train, x_test, y_train, y_test = train_test_split(x, y, train_size= 0.8, random_state = 5)"
   ]
  },
  {
   "cell_type": "code",
   "execution_count": null,
   "id": "da60e9f6-c539-4199-871a-4192d557f156",
   "metadata": {},
   "outputs": [],
   "source": []
  },
  {
   "cell_type": "code",
   "execution_count": 70,
   "id": "e4f3f468-a68d-4b70-b187-e8ba0c0678aa",
   "metadata": {},
   "outputs": [],
   "source": [
    "my_LR = TwoD_LinReg()\n",
    "\n",
    "a, b, c = my_LR.fit(x_train, y_train)"
   ]
  },
  {
   "cell_type": "code",
   "execution_count": 79,
   "id": "c0a5f81f-4bc3-4507-b58b-471b763ac813",
   "metadata": {},
   "outputs": [
    {
     "name": "stdout",
     "output_type": "stream",
     "text": [
      "-5.222991911538888\n",
      "0.7653961826941007\n",
      "0.12215441259061671\n",
      "Linear Regression Equation:    Y = (-5.22) + (0.77)cgpa + (0.12)iq\n"
     ]
    }
   ],
   "source": [
    "print(a)\n",
    "print(b)\n",
    "print(c)\n",
    "\n",
    "print(f\"Linear Regression Equation:    Y = ({round(a,2)}) + ({round(b,2)})cgpa + ({round(c,2)})iq\")"
   ]
  },
  {
   "cell_type": "code",
   "execution_count": 72,
   "id": "9863a715-829e-4f7c-bb21-61c371808e13",
   "metadata": {},
   "outputs": [
    {
     "data": {
      "text/plain": [
       "(20, 2)"
      ]
     },
     "execution_count": 72,
     "metadata": {},
     "output_type": "execute_result"
    }
   ],
   "source": [
    "x_test.shape"
   ]
  },
  {
   "cell_type": "code",
   "execution_count": 78,
   "id": "0ac6a717-ad0e-4fc1-b5d0-4bd2ff24ae69",
   "metadata": {},
   "outputs": [],
   "source": [
    "y_pred = my_LR.predict(x_test)"
   ]
  },
  {
   "cell_type": "code",
   "execution_count": null,
   "id": "164ceec2-b75e-4751-be33-952c61ed0c79",
   "metadata": {},
   "outputs": [],
   "source": []
  },
  {
   "cell_type": "code",
   "execution_count": null,
   "id": "7b1f34aa-68a5-4703-87e1-24113ddc314f",
   "metadata": {},
   "outputs": [],
   "source": []
  },
  {
   "cell_type": "code",
   "execution_count": 76,
   "id": "d2dbfd12-8fe8-4f97-8d23-28ac8d5ac8cc",
   "metadata": {},
   "outputs": [
    {
     "name": "stdout",
     "output_type": "stream",
     "text": [
      "0.8591026856693663\n"
     ]
    }
   ],
   "source": [
    "r2 = my_LR.r2_score(y_test, y_pred)\n",
    "print(r2)"
   ]
  },
  {
   "cell_type": "raw",
   "id": "d50ef845-69da-455c-9f2e-e6aaa907c452",
   "metadata": {},
   "source": []
  },
  {
   "cell_type": "code",
   "execution_count": null,
   "id": "9db867c5-e566-4f96-9762-276902be9e74",
   "metadata": {},
   "outputs": [],
   "source": []
  },
  {
   "cell_type": "code",
   "execution_count": null,
   "id": "9453f31f-94f1-4f5a-9c5f-c581a9e1e229",
   "metadata": {},
   "outputs": [],
   "source": []
  }
 ],
 "metadata": {
  "kernelspec": {
   "display_name": "Python [conda env:base] *",
   "language": "python",
   "name": "conda-base-py"
  },
  "language_info": {
   "codemirror_mode": {
    "name": "ipython",
    "version": 3
   },
   "file_extension": ".py",
   "mimetype": "text/x-python",
   "name": "python",
   "nbconvert_exporter": "python",
   "pygments_lexer": "ipython3",
   "version": "3.12.7"
  }
 },
 "nbformat": 4,
 "nbformat_minor": 5
}
