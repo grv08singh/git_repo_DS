{
 "cells": [
  {
   "cell_type": "code",
   "execution_count": 1,
   "id": "365c3cc9-133c-41e3-9ece-2b2a84d8e61e",
   "metadata": {},
   "outputs": [],
   "source": [
    "import numpy as np\n",
    "import pandas as pd\n",
    "import matplotlib.pyplot as plt\n",
    "import seaborn as sns\n",
    "from sklearn.model_selection import train_test_split"
   ]
  },
  {
   "cell_type": "code",
   "execution_count": 2,
   "id": "3316641d-5fbe-47fc-9499-69e21e0beb63",
   "metadata": {},
   "outputs": [],
   "source": [
    "class LinearReg:\n",
    "    def __init__(self):\n",
    "        self.m = None\n",
    "        self.c = None\n",
    "        self.y_mean = None\n",
    "    \n",
    "    def fit(self, x_train, y_train):\n",
    "        x_mean = np.mean(x_train)\n",
    "        self.y_mean = np.mean(y_train)\n",
    "        y_arr = y_train - self.y_mean\n",
    "        x_arr = x_train - x_mean\n",
    "        yx_arr = y_arr * x_arr\n",
    "        xx_arr = x_arr * x_arr\n",
    "        self.m = sum(yx_arr)/sum(xx_arr)\n",
    "        self.c = self.y_mean - self.m * x_mean\n",
    "        return self.m, self.c\n",
    "    \n",
    "    def predict(self, x_test):\n",
    "        y_pred = self.m * x_test + self.c\n",
    "        return y_pred\n",
    "\n",
    "    def r2_score(self, y_test, y_pred):\n",
    "        num = sum((y_test - y_pred)**2)\n",
    "        den = sum((y_test - self.y_mean)**2)\n",
    "        r2_score = 1 - num/den\n",
    "        return r2_score"
   ]
  },
  {
   "cell_type": "code",
   "execution_count": null,
   "id": "538866ca-c475-438e-b100-723fbbf32157",
   "metadata": {},
   "outputs": [],
   "source": []
  },
  {
   "cell_type": "code",
   "execution_count": 3,
   "id": "c6fccfd3-9151-443f-97b3-37641e49d8d4",
   "metadata": {},
   "outputs": [],
   "source": [
    "df = pd.read_csv(\"LinRegTest.csv\")"
   ]
  },
  {
   "cell_type": "code",
   "execution_count": 4,
   "id": "29cc0299-78f6-40c9-b189-815982c9d509",
   "metadata": {},
   "outputs": [
    {
     "data": {
      "text/html": [
       "<div>\n",
       "<style scoped>\n",
       "    .dataframe tbody tr th:only-of-type {\n",
       "        vertical-align: middle;\n",
       "    }\n",
       "\n",
       "    .dataframe tbody tr th {\n",
       "        vertical-align: top;\n",
       "    }\n",
       "\n",
       "    .dataframe thead th {\n",
       "        text-align: right;\n",
       "    }\n",
       "</style>\n",
       "<table border=\"1\" class=\"dataframe\">\n",
       "  <thead>\n",
       "    <tr style=\"text-align: right;\">\n",
       "      <th></th>\n",
       "      <th>cgpa</th>\n",
       "      <th>salary</th>\n",
       "    </tr>\n",
       "  </thead>\n",
       "  <tbody>\n",
       "    <tr>\n",
       "      <th>0</th>\n",
       "      <td>3.55</td>\n",
       "      <td>5.24</td>\n",
       "    </tr>\n",
       "    <tr>\n",
       "      <th>1</th>\n",
       "      <td>8.98</td>\n",
       "      <td>10.96</td>\n",
       "    </tr>\n",
       "    <tr>\n",
       "      <th>2</th>\n",
       "      <td>1.19</td>\n",
       "      <td>2.77</td>\n",
       "    </tr>\n",
       "    <tr>\n",
       "      <th>3</th>\n",
       "      <td>7.42</td>\n",
       "      <td>11.20</td>\n",
       "    </tr>\n",
       "    <tr>\n",
       "      <th>4</th>\n",
       "      <td>5.47</td>\n",
       "      <td>8.52</td>\n",
       "    </tr>\n",
       "  </tbody>\n",
       "</table>\n",
       "</div>"
      ],
      "text/plain": [
       "   cgpa  salary\n",
       "0  3.55    5.24\n",
       "1  8.98   10.96\n",
       "2  1.19    2.77\n",
       "3  7.42   11.20\n",
       "4  5.47    8.52"
      ]
     },
     "execution_count": 4,
     "metadata": {},
     "output_type": "execute_result"
    }
   ],
   "source": [
    "df.head()"
   ]
  },
  {
   "cell_type": "code",
   "execution_count": 5,
   "id": "c3e412ce-e4f5-4ccb-8581-19b7c2e1e94e",
   "metadata": {},
   "outputs": [],
   "source": [
    "x, y = df['cgpa'], df['salary']"
   ]
  },
  {
   "cell_type": "code",
   "execution_count": 6,
   "id": "c86d7090-81dc-4454-afa8-998dd000278d",
   "metadata": {},
   "outputs": [],
   "source": [
    "x_train, x_test, y_train, y_test = train_test_split(x, y, train_size= 0.8, random_state = 5)"
   ]
  },
  {
   "cell_type": "code",
   "execution_count": null,
   "id": "da60e9f6-c539-4199-871a-4192d557f156",
   "metadata": {},
   "outputs": [],
   "source": []
  },
  {
   "cell_type": "code",
   "execution_count": 7,
   "id": "e4f3f468-a68d-4b70-b187-e8ba0c0678aa",
   "metadata": {},
   "outputs": [],
   "source": [
    "my_LR = LinearReg()\n",
    "m, c = my_LR.fit(x_train, y_train)"
   ]
  },
  {
   "cell_type": "code",
   "execution_count": 8,
   "id": "c0a5f81f-4bc3-4507-b58b-471b763ac813",
   "metadata": {},
   "outputs": [
    {
     "name": "stdout",
     "output_type": "stream",
     "text": [
      "1.874223903067792\n",
      "-1.0707408526269155\n",
      "Linear Regression Equation:    Y = (1.87)X + (-1.07)\n"
     ]
    }
   ],
   "source": [
    "print(m)\n",
    "print(c)\n",
    "\n",
    "print(f\"Linear Regression Equation:    Y = ({round(m,2)})X + ({round(c,2)})\")"
   ]
  },
  {
   "cell_type": "code",
   "execution_count": null,
   "id": "9863a715-829e-4f7c-bb21-61c371808e13",
   "metadata": {},
   "outputs": [],
   "source": []
  },
  {
   "cell_type": "code",
   "execution_count": 9,
   "id": "0ac6a717-ad0e-4fc1-b5d0-4bd2ff24ae69",
   "metadata": {},
   "outputs": [],
   "source": [
    "y_pred = my_LR.predict(x_test)"
   ]
  },
  {
   "cell_type": "code",
   "execution_count": 10,
   "id": "d2dbfd12-8fe8-4f97-8d23-28ac8d5ac8cc",
   "metadata": {},
   "outputs": [
    {
     "name": "stdout",
     "output_type": "stream",
     "text": [
      "0.804728172932869\n"
     ]
    }
   ],
   "source": [
    "r2 = my_LR.r2_score(y_test, y_pred)\n",
    "print(r2)"
   ]
  },
  {
   "cell_type": "raw",
   "id": "d50ef845-69da-455c-9f2e-e6aaa907c452",
   "metadata": {},
   "source": []
  }
 ],
 "metadata": {
  "kernelspec": {
   "display_name": "Python [conda env:base] *",
   "language": "python",
   "name": "conda-base-py"
  },
  "language_info": {
   "codemirror_mode": {
    "name": "ipython",
    "version": 3
   },
   "file_extension": ".py",
   "mimetype": "text/x-python",
   "name": "python",
   "nbconvert_exporter": "python",
   "pygments_lexer": "ipython3",
   "version": "3.12.7"
  }
 },
 "nbformat": 4,
 "nbformat_minor": 5
}
